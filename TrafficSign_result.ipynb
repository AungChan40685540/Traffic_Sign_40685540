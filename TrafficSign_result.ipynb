{
 "cells": [
  {
   "cell_type": "markdown",
   "id": "9e4b7f5a",
   "metadata": {},
   "source": [
    "### Import libraries"
   ]
  },
  {
   "cell_type": "code",
   "execution_count": 7,
   "id": "8e5c5ef7",
   "metadata": {},
   "outputs": [],
   "source": [
    "import numpy as np\n",
    "import cv2\n",
    "import os"
   ]
  },
  {
   "cell_type": "markdown",
   "id": "f6d0b368",
   "metadata": {},
   "source": [
    "**Parameter**"
   ]
  },
  {
   "cell_type": "code",
   "execution_count": 8,
   "id": "997f0318",
   "metadata": {},
   "outputs": [],
   "source": [
    "folder_path = \"trafficSignData\"\n",
    "label_file = 'labels.csv'\n",
    "imageDimesions = (32,32)"
   ]
  },
  {
   "cell_type": "code",
   "execution_count": 9,
   "id": "5336ada6",
   "metadata": {},
   "outputs": [],
   "source": [
    "images = []\n",
    "classNumber = []"
   ]
  },
  {
   "cell_type": "code",
   "execution_count": 10,
   "id": "21db031c",
   "metadata": {},
   "outputs": [
    {
     "name": "stdout",
     "output_type": "stream",
     "text": [
      "View each classes in traffic folder : ['0', '1', '10', '11', '12', '13', '14', '15', '16', '17', '18', '19', '2', '20', '21', '22', '23', '24', '25', '26', '27', '28', '29', '3', '30', '31', '32', '33', '34', '35', '36', '37', '38', '39', '4', '40', '41', '42', '43', '44', '45', '46', '47', '48', '49', '5', '50', '51', '52', '53', '54', '55', '56', '57', '6', '7', '8', '9'] \n",
      "\n",
      "Total length of classes : 58 \n",
      "\n",
      "Iterating to load images & classes\n",
      "\n",
      "0 1 2 3 4 5 6 7 8 9 10 11 12 13 14 15 16 17 18 19 20 21 22 23 24 25 26 27 28 29 30 31 32 33 34 35 36 37 38 39 40 41 42 43 44 45 46 47 48 49 50 51 52 53 54 55 56 57 "
     ]
    }
   ],
   "source": [
    "# get the path of the traffic data\n",
    "myList = os.listdir(folder_path)\n",
    "print(\"View each classes in traffic folder :\", myList, \"\\n\")\n",
    "\n",
    "# get the number of classes (number of folder)\n",
    "lengthOfClasses = len(myList)\n",
    "print(\"Total length of classes :\", lengthOfClasses, \"\\n\")\n",
    "\n",
    "\n",
    "print(\"Iterating to load images & classes\\n\")\n",
    "# iterate 0 to length of classes (58)\n",
    "for x in range(0, lengthOfClasses): # x is folder\n",
    "    imagesList = os.listdir(os.path.join(folder_path, str(x))) # each (x) folder in trafficSignData \n",
    "    for img in imagesList:\n",
    "        currentImage = cv2.imread(folder_path + \"/\" + str(x) + \"/\" + img) # trafficSignData --> x folder --> img = images\n",
    "        if currentImage is not None:  # Check image is read\n",
    "            currentImage = cv2.resize(currentImage, imageDimesions) # Resize to the dimensions tp 32 X 32 pixels\n",
    "            images.append(currentImage)\n",
    "            classNumber.append(x)\n",
    "        else:\n",
    "            print(f\"It is wrong folder path {folder_path}\")\n",
    "    print(x, end=\" \")\n",
    "# print(\" \")\n",
    "\n",
    "\n",
    "# Convert list to numpy array\n",
    "images = np.array(images)\n",
    "classNumber = np.array(classNumber)\n",
    "# print(images)\n",
    "# print(classNumber)"
   ]
  }
 ],
 "metadata": {
  "kernelspec": {
   "display_name": "base",
   "language": "python",
   "name": "python3"
  },
  "language_info": {
   "codemirror_mode": {
    "name": "ipython",
    "version": 3
   },
   "file_extension": ".py",
   "mimetype": "text/x-python",
   "name": "python",
   "nbconvert_exporter": "python",
   "pygments_lexer": "ipython3",
   "version": "3.12.4"
  }
 },
 "nbformat": 4,
 "nbformat_minor": 5
}
