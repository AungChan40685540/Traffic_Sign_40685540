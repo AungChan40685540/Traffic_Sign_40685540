{
 "cells": [
  {
   "cell_type": "markdown",
   "id": "9e4b7f5a",
   "metadata": {},
   "source": [
    "### Import libraries"
   ]
  },
  {
   "cell_type": "code",
   "execution_count": 102,
   "id": "8e5c5ef7",
   "metadata": {},
   "outputs": [],
   "source": [
    "import numpy as np\n",
    "import cv2\n",
    "import os"
   ]
  },
  {
   "cell_type": "markdown",
   "id": "f6d0b368",
   "metadata": {},
   "source": [
    "**Parameter**"
   ]
  },
  {
   "cell_type": "code",
   "execution_count": 103,
   "id": "997f0318",
   "metadata": {},
   "outputs": [],
   "source": [
    "folder_path = \"trafficSignData\"\n",
    "label_file = 'labels.csv'\n",
    "imageDimesions = (32, 32)\n",
    "imageDimesiontest = (32, 32, 3)\n",
    "ratio = 0.2"
   ]
  },
  {
   "cell_type": "markdown",
   "id": "b5063184",
   "metadata": {},
   "source": [
    "### Load the images and number of classes"
   ]
  },
  {
   "cell_type": "code",
   "execution_count": 104,
   "id": "5336ada6",
   "metadata": {},
   "outputs": [],
   "source": [
    "images = []\n",
    "classNumber = []"
   ]
  },
  {
   "cell_type": "code",
   "execution_count": 105,
   "id": "21db031c",
   "metadata": {},
   "outputs": [
    {
     "name": "stdout",
     "output_type": "stream",
     "text": [
      "View each classes in traffic folder : ['50', '57', '32', '35', '56', '51', '34', '33', '20', '18', '27', '9', '0', '11', '7', '29', '16', '42', '45', '6', '28', '17', '1', '10', '19', '26', '8', '21', '44', '43', '38', '36', '31', '54', '53', '30', '37', '39', '52', '55', '46', '41', '48', '24', '23', '4', '15', '3', '12', '49', '40', '47', '2', '13', '5', '14', '22', '25'] \n",
      "\n",
      "Total length of classes : 58 \n",
      "\n"
     ]
    }
   ],
   "source": [
    "# get the path of the traffic data\n",
    "myList = os.listdir(folder_path)\n",
    "print(\"View each classes in traffic folder :\", myList, \"\\n\")\n",
    "\n",
    "# get the number of classes (number of folder)\n",
    "lengthOfClasses = len(myList)\n",
    "print(\"Total length of classes :\", lengthOfClasses, \"\\n\")\n"
   ]
  },
  {
   "cell_type": "markdown",
   "id": "603179a2",
   "metadata": {},
   "source": [
    "### Iterate to load the images and classes"
   ]
  },
  {
   "cell_type": "code",
   "execution_count": 106,
   "id": "977b9f4d",
   "metadata": {},
   "outputs": [
    {
     "name": "stdout",
     "output_type": "stream",
     "text": [
      "Iterating to load images & classes\n",
      "\n",
      "0 1 2 3 4 5 6 7 8 9 10 11 12 13 14 15 16 17 18 19 20 21 22 23 24 25 26 27 28 29 30 31 32 33 34 35 36 37 38 39 40 41 42 43 44 45 46 47 48 49 50 51 52 53 54 55 56 57 "
     ]
    }
   ],
   "source": [
    "print(\"Iterating to load images & classes\\n\")\n",
    "# iterate 0 to length of classes (58)\n",
    "for x in range(0, lengthOfClasses): # x is folder\n",
    "    imagesList = os.listdir(os.path.join(folder_path, str(x))) # each (x) folder in trafficSignData \n",
    "    for img in imagesList:\n",
    "        currentImage = cv2.imread(folder_path + \"/\" + str(x) + \"/\" + img) # trafficSignData --> x folder --> img = images\n",
    "        if currentImage is not None:  # Check image is read\n",
    "            currentImage = cv2.resize(currentImage, imageDimesions) # Resize to the dimensions to 32 X 32 pixels\n",
    "            images.append(currentImage)\n",
    "            classNumber.append(x)\n",
    "        else:\n",
    "            print(f\"It is wrong folder path {folder_path}\")\n",
    "    print(x, end=\" \")"
   ]
  },
  {
   "cell_type": "markdown",
   "id": "1cc11745",
   "metadata": {},
   "source": [
    "### Convert list to numpy array"
   ]
  },
  {
   "cell_type": "code",
   "execution_count": 107,
   "id": "6bd5bd5a",
   "metadata": {},
   "outputs": [],
   "source": [
    "# Convert list to numpy array\n",
    "images = np.array(images)\n",
    "classNumber = np.array(classNumber)"
   ]
  },
  {
   "cell_type": "markdown",
   "id": "2619cd57",
   "metadata": {},
   "source": [
    "**Result**"
   ]
  },
  {
   "cell_type": "code",
   "execution_count": 108,
   "id": "27968176",
   "metadata": {},
   "outputs": [
    {
     "name": "stdout",
     "output_type": "stream",
     "text": [
      "[[[[ 41  39  32]\n",
      "   [ 38  39  31]\n",
      "   [ 38  38  30]\n",
      "   ...\n",
      "   [155 153 151]\n",
      "   [190 190 190]\n",
      "   [192 192 192]]\n",
      "\n",
      "  [[ 40  40  30]\n",
      "   [ 38  38  32]\n",
      "   [ 40  38  31]\n",
      "   ...\n",
      "   [151 150 147]\n",
      "   [189 190 190]\n",
      "   [189 189 189]]\n",
      "\n",
      "  [[ 41  41  31]\n",
      "   [ 39  39  30]\n",
      "   [ 38  39  30]\n",
      "   ...\n",
      "   [145 146 141]\n",
      "   [188 188 188]\n",
      "   [185 185 185]]\n",
      "\n",
      "  ...\n",
      "\n",
      "  [[194 189 181]\n",
      "   [195 190 176]\n",
      "   [196 189 178]\n",
      "   ...\n",
      "   [121  49   7]\n",
      "   [123  51   5]\n",
      "   [121  50   8]]\n",
      "\n",
      "  [[194 185 171]\n",
      "   [193 184 173]\n",
      "   [194 185 172]\n",
      "   ...\n",
      "   [165 158 151]\n",
      "   [167 160 150]\n",
      "   [167 162 153]]\n",
      "\n",
      "  [[179 174 166]\n",
      "   [179 174 166]\n",
      "   [183 176 168]\n",
      "   ...\n",
      "   [125  55  13]\n",
      "   [126  56  12]\n",
      "   [127  55  13]]]\n",
      "\n",
      "\n",
      " [[[126  64  21]\n",
      "   [138  91  58]\n",
      "   [143 102  71]\n",
      "   ...\n",
      "   [165 155 142]\n",
      "   [176 180 185]\n",
      "   [162 166 170]]\n",
      "\n",
      "  [[139 110  93]\n",
      "   [154 140 129]\n",
      "   [120  78  58]\n",
      "   ...\n",
      "   [164 159 153]\n",
      "   [174 178 183]\n",
      "   [169 171 171]]\n",
      "\n",
      "  [[135  97  75]\n",
      "   [145 114 101]\n",
      "   [140 126 119]\n",
      "   ...\n",
      "   [157 162 164]\n",
      "   [185 188 192]\n",
      "   [179 179 182]]\n",
      "\n",
      "  ...\n",
      "\n",
      "  [[ 82  79  81]\n",
      "   [123 123 123]\n",
      "   [135 135 135]\n",
      "   ...\n",
      "   [163 163 165]\n",
      "   [161 161 161]\n",
      "   [132 134 153]]\n",
      "\n",
      "  [[ 82  81  81]\n",
      "   [123 123 123]\n",
      "   [139 137 137]\n",
      "   ...\n",
      "   [166 168 176]\n",
      "   [160 158 157]\n",
      "   [112 115 144]]\n",
      "\n",
      "  [[ 86  85  86]\n",
      "   [124 124 124]\n",
      "   [133 133 132]\n",
      "   ...\n",
      "   [161 159 162]\n",
      "   [159 152 153]\n",
      "   [127 105  89]]]\n",
      "\n",
      "\n",
      " [[[ 41  39  32]\n",
      "   [ 38  39  31]\n",
      "   [ 38  38  30]\n",
      "   ...\n",
      "   [155 153 151]\n",
      "   [190 190 190]\n",
      "   [192 192 192]]\n",
      "\n",
      "  [[ 40  40  30]\n",
      "   [ 38  38  32]\n",
      "   [ 40  38  31]\n",
      "   ...\n",
      "   [151 150 147]\n",
      "   [189 190 190]\n",
      "   [189 189 189]]\n",
      "\n",
      "  [[ 41  41  31]\n",
      "   [ 39  39  30]\n",
      "   [ 38  39  30]\n",
      "   ...\n",
      "   [145 146 141]\n",
      "   [188 188 188]\n",
      "   [185 185 185]]\n",
      "\n",
      "  ...\n",
      "\n",
      "  [[194 189 181]\n",
      "   [195 190 176]\n",
      "   [196 189 178]\n",
      "   ...\n",
      "   [121  49   7]\n",
      "   [123  51   5]\n",
      "   [121  50   8]]\n",
      "\n",
      "  [[194 185 171]\n",
      "   [193 184 173]\n",
      "   [194 185 172]\n",
      "   ...\n",
      "   [165 158 151]\n",
      "   [167 160 150]\n",
      "   [167 162 153]]\n",
      "\n",
      "  [[179 174 166]\n",
      "   [179 174 166]\n",
      "   [183 176 168]\n",
      "   ...\n",
      "   [125  55  13]\n",
      "   [126  56  12]\n",
      "   [127  55  13]]]\n",
      "\n",
      "\n",
      " ...\n",
      "\n",
      "\n",
      " [[[ 17  28  26]\n",
      "   [ 46  51  46]\n",
      "   [122 122 114]\n",
      "   ...\n",
      "   [171 179 183]\n",
      "   [177 186 190]\n",
      "   [195 204 208]]\n",
      "\n",
      "  [[ 41  52  50]\n",
      "   [ 46  51  45]\n",
      "   [ 35  35  26]\n",
      "   ...\n",
      "   [217 226 228]\n",
      "   [217 225 233]\n",
      "   [216 224 232]]\n",
      "\n",
      "  [[ 25  35  29]\n",
      "   [ 67  74  66]\n",
      "   [ 65  73  60]\n",
      "   ...\n",
      "   [216 227 227]\n",
      "   [214 222 230]\n",
      "   [213 220 230]]\n",
      "\n",
      "  ...\n",
      "\n",
      "  [[167 166 168]\n",
      "   [168 167 169]\n",
      "   [165 168 174]\n",
      "   ...\n",
      "   [221 234 236]\n",
      "   [220 230 239]\n",
      "   [217 227 237]]\n",
      "\n",
      "  [[187 194 195]\n",
      "   [192 199 200]\n",
      "   [191 197 201]\n",
      "   ...\n",
      "   [221 234 236]\n",
      "   [220 230 239]\n",
      "   [217 227 237]]\n",
      "\n",
      "  [[181 188 189]\n",
      "   [184 191 192]\n",
      "   [183 189 193]\n",
      "   ...\n",
      "   [221 234 236]\n",
      "   [220 230 239]\n",
      "   [217 227 237]]]\n",
      "\n",
      "\n",
      " [[[ 33  44  42]\n",
      "   [ 40  50  48]\n",
      "   [ 24  28  27]\n",
      "   ...\n",
      "   [212 221 225]\n",
      "   [216 225 229]\n",
      "   [215 225 232]]\n",
      "\n",
      "  [[ 71  82  80]\n",
      "   [ 71  79  76]\n",
      "   [ 44  47  43]\n",
      "   ...\n",
      "   [195 204 207]\n",
      "   [171 180 184]\n",
      "   [147 158 164]]\n",
      "\n",
      "  [[ 62  73  71]\n",
      "   [ 17  26  23]\n",
      "   [ 53  55  49]\n",
      "   ...\n",
      "   [224 233 237]\n",
      "   [232 241 245]\n",
      "   [223 233 238]]\n",
      "\n",
      "  ...\n",
      "\n",
      "  [[179 186 187]\n",
      "   [186 192 194]\n",
      "   [180 186 190]\n",
      "   ...\n",
      "   [216 226 236]\n",
      "   [220 230 238]\n",
      "   [220 232 235]]\n",
      "\n",
      "  [[190 197 198]\n",
      "   [169 175 176]\n",
      "   [185 191 195]\n",
      "   ...\n",
      "   [215 225 234]\n",
      "   [216 227 234]\n",
      "   [217 229 232]]\n",
      "\n",
      "  [[178 185 186]\n",
      "   [184 191 192]\n",
      "   [184 190 194]\n",
      "   ...\n",
      "   [216 226 236]\n",
      "   [218 229 236]\n",
      "   [219 231 235]]]\n",
      "\n",
      "\n",
      " [[[ 35  46  44]\n",
      "   [127 128 120]\n",
      "   [ 73  74  65]\n",
      "   ...\n",
      "   [218 227 229]\n",
      "   [210 219 223]\n",
      "   [227 236 240]]\n",
      "\n",
      "  [[ 39  49  47]\n",
      "   [ 47  47  38]\n",
      "   [ 15  15   8]\n",
      "   ...\n",
      "   [215 224 228]\n",
      "   [214 221 231]\n",
      "   [215 223 231]]\n",
      "\n",
      "  [[ 48  57  52]\n",
      "   [ 68  74  63]\n",
      "   [ 16  22  14]\n",
      "   ...\n",
      "   [217 226 230]\n",
      "   [213 220 230]\n",
      "   [215 223 231]]\n",
      "\n",
      "  ...\n",
      "\n",
      "  [[182 187 188]\n",
      "   [203 208 213]\n",
      "   [191 195 197]\n",
      "   ...\n",
      "   [222 233 238]\n",
      "   [217 227 236]\n",
      "   [219 229 238]]\n",
      "\n",
      "  [[187 194 195]\n",
      "   [183 189 193]\n",
      "   [187 191 193]\n",
      "   ...\n",
      "   [222 233 238]\n",
      "   [217 227 236]\n",
      "   [219 229 238]]\n",
      "\n",
      "  [[187 194 195]\n",
      "   [176 182 186]\n",
      "   [181 185 187]\n",
      "   ...\n",
      "   [222 233 238]\n",
      "   [216 226 236]\n",
      "   [219 229 238]]]]\n",
      "[ 0  0  0 ... 57 57 57]\n"
     ]
    }
   ],
   "source": [
    "print(images)\n",
    "print(classNumber)"
   ]
  },
  {
   "cell_type": "markdown",
   "id": "2f532f39",
   "metadata": {},
   "source": [
    "**Check images shape and classNumber**\n",
    "\n",
    "- the first number is number of images\n",
    "- 32 x 32 images\n",
    "- 3 mean RGB 3 channals"
   ]
  },
  {
   "cell_type": "code",
   "execution_count": 109,
   "id": "83224cc5",
   "metadata": {},
   "outputs": [
    {
     "name": "stdout",
     "output_type": "stream",
     "text": [
      "(4170, 32, 32, 3)\n",
      "(4170,)\n"
     ]
    }
   ],
   "source": [
    "print(images.shape)\n",
    "print(classNumber.shape)"
   ]
  },
  {
   "cell_type": "markdown",
   "id": "8dd01bad",
   "metadata": {},
   "source": [
    "### Data Spliting\n",
    "\n",
    "**import train_test_split**"
   ]
  },
  {
   "cell_type": "code",
   "execution_count": 110,
   "id": "459074ee",
   "metadata": {},
   "outputs": [],
   "source": [
    "from sklearn.model_selection import train_test_split"
   ]
  },
  {
   "cell_type": "markdown",
   "id": "50b44aae",
   "metadata": {},
   "source": [
    "### Spliting the data\n",
    "- split the array images, classNumber, set the test size for exmaple 0.2\n",
    "- test_size = 0.2 means that training will be 0.8 percent and test will be 0.2, so 20% testing and 80% training"
   ]
  },
  {
   "cell_type": "code",
   "execution_count": 111,
   "id": "56cc10ca",
   "metadata": {},
   "outputs": [],
   "source": [
    "X_train, X_test, y_train, y_test = train_test_split(images, classNumber, test_size=ratio)"
   ]
  },
  {
   "cell_type": "markdown",
   "id": "d0f8307d",
   "metadata": {},
   "source": [
    "**Check whether it is split or not (train, test)**\n",
    "- by using shape function"
   ]
  },
  {
   "cell_type": "code",
   "execution_count": 112,
   "id": "d39cddf1",
   "metadata": {},
   "outputs": [
    {
     "name": "stdout",
     "output_type": "stream",
     "text": [
      "After spliting for images for traning\n",
      "(3336, 32, 32, 3)\n",
      "After spliting for images for testing\n",
      "(834, 32, 32, 3)\n",
      "\n",
      " After spliting for classNUmber for traning & testing\n",
      "(3336,)\n",
      "(834,)\n"
     ]
    }
   ],
   "source": [
    "print(\"After spliting for images for traning\")\n",
    "print(X_train.shape)\n",
    "print(\"After spliting for images for testing\")\n",
    "print(X_test.shape)\n",
    "\n",
    "print(\"\\n After spliting for classNUmber for traning & testing\")\n",
    "print(y_train.shape)\n",
    "print(y_test.shape)"
   ]
  },
  {
   "cell_type": "markdown",
   "id": "faa8022d",
   "metadata": {},
   "source": [
    "**Get the X_validation**\n",
    "- to get X_validation use the 80% of images array which is X_train and use y_train"
   ]
  },
  {
   "cell_type": "code",
   "execution_count": 113,
   "id": "3f3e8189",
   "metadata": {},
   "outputs": [
    {
     "name": "stdout",
     "output_type": "stream",
     "text": [
      "Get the X_validation\n",
      "(668, 32, 32, 3)\n"
     ]
    }
   ],
   "source": [
    "X_train, X_validation, y_train, y_validation = train_test_split(X_train, y_train, test_size=ratio)\n",
    "print('Get the X_validation')\n",
    "print(X_validation.shape)"
   ]
  },
  {
   "cell_type": "markdown",
   "id": "72d645b7",
   "metadata": {},
   "source": [
    "**Print X_train, X_test, and X_validation**"
   ]
  },
  {
   "cell_type": "code",
   "execution_count": 114,
   "id": "11bca6df",
   "metadata": {},
   "outputs": [
    {
     "name": "stdout",
     "output_type": "stream",
     "text": [
      "(2668, 32, 32, 3) (2668,)\n",
      "(834, 32, 32, 3) (834,)\n",
      "(668, 32, 32, 3) (668,)\n"
     ]
    }
   ],
   "source": [
    "print(X_train.shape, y_train.shape)\n",
    "print(X_test.shape, y_test.shape)\n",
    "print(X_validation.shape, y_validation.shape)"
   ]
  },
  {
   "cell_type": "markdown",
   "id": "bb107d44",
   "metadata": {},
   "source": [
    "### Check the images and classes are match & dimension are correct"
   ]
  },
  {
   "cell_type": "code",
   "execution_count": 115,
   "id": "bc0225d7",
   "metadata": {},
   "outputs": [
    {
     "name": "stdout",
     "output_type": "stream",
     "text": [
      "All tests passed\n"
     ]
    }
   ],
   "source": [
    "try:\n",
    "    # check it is same or not\n",
    "    assert X_train.shape[0] == y_train.shape[0], \"Number of images and class should be match for training\"\n",
    "    assert X_test.shape[0] == y_test.shape[0], \"Number of images and class should be match for testing\"\n",
    "    # check dimensions is same or not\n",
    "    assert X_train.shape[1:] == imageDimesiontest, \"Dimensions should be same one for training\"\n",
    "    assert X_test.shape[1:] == imageDimesiontest, \"Dimensions should be same one for testing\"\n",
    "    print(\"All tests passed\")\n",
    "except AssertionError as e:\n",
    "    print(e)\n"
   ]
  },
  {
   "cell_type": "markdown",
   "id": "461c2993",
   "metadata": {},
   "source": [
    "**What inside the X and Y**\n",
    "- X_train contain = actual images, Y_train contain = the ids of each image"
   ]
  },
  {
   "cell_type": "code",
   "execution_count": 116,
   "id": "f45fcf49",
   "metadata": {},
   "outputs": [
    {
     "name": "stdout",
     "output_type": "stream",
     "text": [
      "Index which related to class 0\n",
      "(array([  10,   14,   51,  123,  209,  218,  265,  322,  342,  379,  432,\n",
      "        486,  533,  553,  572,  583,  636,  646,  688,  696,  800,  805,\n",
      "        815,  874,  875,  890,  926,  941,  975,  992, 1000, 1162, 1184,\n",
      "       1188, 1209, 1227, 1246, 1277, 1327, 1333, 1392, 1440, 1446, 1480,\n",
      "       1522, 1524, 1585, 1589, 1608, 1626, 1633, 1650, 1680, 1684, 1689,\n",
      "       1753, 1808, 1829, 1925, 2029, 2052, 2161, 2172, 2174, 2203, 2233,\n",
      "       2244, 2262, 2309, 2323, 2337, 2356, 2395, 2424, 2436, 2442, 2461,\n",
      "       2490, 2556, 2568, 2608]),)\n",
      "Length of the class 0\n",
      "81\n",
      "Total number of images for each Class\n",
      "Class 0: 81\n",
      "Class 1: 25\n",
      "Class 2: 56\n",
      "Class 3: 166\n",
      "Class 4: 66\n",
      "Class 5: 120\n",
      "Class 6: 46\n",
      "Class 7: 99\n",
      "Class 8: 4\n",
      "Class 9: 2\n",
      "Class 10: 47\n",
      "Class 11: 92\n",
      "Class 12: 61\n",
      "Class 13: 22\n",
      "Class 14: 86\n",
      "Class 15: 15\n",
      "Class 16: 92\n",
      "Class 17: 88\n",
      "Class 18: 6\n",
      "Class 19: 3\n",
      "Class 20: 10\n",
      "Class 21: 6\n",
      "Class 22: 11\n",
      "Class 23: 10\n",
      "Class 24: 68\n",
      "Class 25: 1\n",
      "Class 26: 86\n",
      "Class 27: 17\n",
      "Class 28: 294\n",
      "Class 29: 26\n",
      "Class 30: 98\n",
      "Class 31: 24\n",
      "Class 32: 9\n",
      "Class 33: 2\n",
      "Class 34: 16\n",
      "Class 35: 100\n",
      "Class 36: 26\n",
      "Class 37: 36\n",
      "Class 38: 23\n",
      "Class 39: 18\n",
      "Class 40: 18\n",
      "Class 41: 13\n",
      "Class 42: 22\n",
      "Class 43: 51\n",
      "Class 44: 19\n",
      "Class 45: 21\n",
      "Class 46: 11\n",
      "Class 47: 11\n",
      "Class 48: 5\n",
      "Class 49: 23\n",
      "Class 50: 29\n",
      "Class 51: 7\n",
      "Class 52: 30\n",
      "Class 53: 1\n",
      "Class 54: 194\n",
      "Class 55: 91\n",
      "Class 56: 61\n",
      "Class 57: 3\n",
      "Array of classes's length : [81, 25, 56, 166, 66, 120, 46, 99, 4, 2, 47, 92, 61, 22, 86, 15, 92, 88, 6, 3, 10, 6, 11, 10, 68, 1, 86, 17, 294, 26, 98, 24, 9, 2, 16, 100, 26, 36, 23, 18, 18, 13, 22, 51, 19, 21, 11, 11, 5, 23, 29, 7, 30, 1, 194, 91, 61, 3]\n"
     ]
    }
   ],
   "source": [
    "# show the all the index numbers which are class number 0\n",
    "print(\"Index which related to class 0\")\n",
    "print(np.where(y_train==0))\n",
    "# total length of classNumber 0\n",
    "print(\"Length of the class 0\")\n",
    "print(len(np.where(y_train==0)[0]))\n",
    "\n",
    "# Declare array to store length of each class\n",
    "numberOfSamples = []\n",
    "\n",
    "print(\"Total number of images for each Class\")\n",
    "for x in range(0,lengthOfClasses):\n",
    "    print(f\"Class {x}: {len(np.where(y_train == x)[0])}\")\n",
    "    # save each class in array\n",
    "    numberOfSamples.append(len(np.where(y_train == x)[0]))\n",
    "\n",
    "print(f\"Array of classes's length : {numberOfSamples}\")"
   ]
  },
  {
   "cell_type": "markdown",
   "id": "affe72d0",
   "metadata": {},
   "source": [
    "### Virtualize the classes by number of length\n",
    "- to make the chart, we need to import the matplotlib\n",
    "\n",
    "**Import library**"
   ]
  },
  {
   "cell_type": "code",
   "execution_count": 117,
   "id": "757b40e1",
   "metadata": {},
   "outputs": [],
   "source": [
    "import matplotlib.pyplot as plt"
   ]
  },
  {
   "cell_type": "code",
   "execution_count": 118,
   "id": "4e0f6f41",
   "metadata": {},
   "outputs": [
    {
     "data": {
      "image/png": "[encoded data removed]",
      "text/plain": [
       "<Figure size 1500x500 with 1 Axes>"
      ]
     },
     "metadata": {},
     "output_type": "display_data"
    }
   ],
   "source": [
    "# 15 mean to length of figure & 5 mean to height of figure\n",
    "plt.figure(figsize=(15, 5))\n",
    "\n",
    "# start 0 to lengthofClasses, \n",
    "plt.bar(range(0, lengthOfClasses), numberOfSamples, color=\"steelblue\", edgecolor='black')\n",
    "plt.title(\"Distribution of the training dataset\", fontsize=16, fontweight='bold')\n",
    "plt.xlabel(\"Number of class\", fontsize=14)\n",
    "plt.ylabel(\"Length of images\", fontsize=14)\n",
    "plt.show()"
   ]
  },
  {
   "cell_type": "markdown",
   "id": "e69dcf4c",
   "metadata": {},
   "source": [
    "### Virtualize with line chart"
   ]
  },
  {
   "cell_type": "code",
   "execution_count": 119,
   "id": "b5b4c76c",
   "metadata": {},
   "outputs": [
    {
     "data": {
      "image/png": "[encoded data removed]",
      "text/plain": [
       "<Figure size 1500x500 with 1 Axes>"
      ]
     },
     "metadata": {},
     "output_type": "display_data"
    }
   ],
   "source": [
    "plt.figure(figsize=(15, 5))\n",
    "plt.plot(range(0, lengthOfClasses), numberOfSamples, marker='o', color=\"steelblue\", linewidth=2)\n",
    "plt.title(\"Distribution of the Training Dataset\", fontsize=16, fontweight='bold')\n",
    "plt.xlabel(\"Class Number\", fontsize=14)\n",
    "plt.ylabel(\"Image Count\", fontsize=14)\n",
    "plt.show()\n"
   ]
  },
  {
   "cell_type": "markdown",
   "id": "f9dcb524",
   "metadata": {},
   "source": [
    "### Read the CSV file\n",
    "- to read the csv files, the pandas library need to import"
   ]
  },
  {
   "cell_type": "code",
   "execution_count": 120,
   "id": "0c683fb1",
   "metadata": {},
   "outputs": [],
   "source": [
    "import pandas as pd"
   ]
  },
  {
   "cell_type": "code",
   "execution_count": 121,
   "id": "18204b3f",
   "metadata": {},
   "outputs": [
    {
     "name": "stdout",
     "output_type": "stream",
     "text": [
      "data shape  (58, 2) <class 'pandas.core.frame.DataFrame'>\n"
     ]
    }
   ],
   "source": [
    "data = pd.read_csv(label_file)\n",
    "print(\"data shape \", data.shape, type(data))"
   ]
  }
 ],
 "metadata": {
  "kernelspec": {
   "display_name": "base",
   "language": "python",
   "name": "python3"
  },
  "language_info": {
   "codemirror_mode": {
    "name": "ipython",
    "version": 3
   },
   "file_extension": ".py",
   "mimetype": "text/x-python",
   "name": "python",
   "nbconvert_exporter": "python",
   "pygments_lexer": "ipython3",
   "version": "3.12.7"
  }
 },
 "nbformat": 4,
 "nbformat_minor": 5
}
