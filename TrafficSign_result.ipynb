{
 "cells": [
  {
   "cell_type": "markdown",
   "id": "9e4b7f5a",
   "metadata": {},
   "source": [
    "### Import libraries"
   ]
  },
  {
   "cell_type": "code",
   "execution_count": 209,
   "id": "8e5c5ef7",
   "metadata": {},
   "outputs": [],
   "source": [
    "import numpy as np\n",
    "import cv2\n",
    "import os"
   ]
  },
  {
   "cell_type": "markdown",
   "id": "f6d0b368",
   "metadata": {},
   "source": [
    "**Parameter**"
   ]
  },
  {
   "cell_type": "code",
   "execution_count": 210,
   "id": "997f0318",
   "metadata": {},
   "outputs": [],
   "source": [
    "folder_path = \"trafficSignData\"\n",
    "label_file = 'labels.csv'\n",
    "imageDimesions = (32, 32)\n",
    "imageDimesiontest = (32, 32, 3)\n",
    "ratio = 0.2"
   ]
  },
  {
   "cell_type": "markdown",
   "id": "b5063184",
   "metadata": {},
   "source": [
    "### Load the images and number of classes"
   ]
  },
  {
   "cell_type": "code",
   "execution_count": 211,
   "id": "5336ada6",
   "metadata": {},
   "outputs": [],
   "source": [
    "images = []\n",
    "classNumber = []"
   ]
  },
  {
   "cell_type": "code",
   "execution_count": 212,
   "id": "21db031c",
   "metadata": {},
   "outputs": [
    {
     "name": "stdout",
     "output_type": "stream",
     "text": [
      "View each classes in traffic folder : ['50', '57', '32', '35', '56', '51', '34', '33', '20', '18', '27', '9', '0', '11', '7', '29', '16', '42', '45', '6', '28', '17', '1', '10', '19', '26', '8', '21', '44', '43', '38', '36', '31', '54', '53', '30', '37', '39', '52', '55', '46', '41', '48', '24', '23', '4', '15', '3', '12', '49', '40', '47', '2', '13', '5', '14', '22', '25'] \n",
      "\n",
      "Total length of classes : 58 \n",
      "\n"
     ]
    }
   ],
   "source": [
    "# get the path of the traffic data\n",
    "myList = os.listdir(folder_path)\n",
    "print(\"View each classes in traffic folder :\", myList, \"\\n\")\n",
    "\n",
    "# get the number of classes (number of folder)\n",
    "lengthOfClasses = len(myList)\n",
    "print(\"Total length of classes :\", lengthOfClasses, \"\\n\")\n"
   ]
  },
  {
   "cell_type": "markdown",
   "id": "603179a2",
   "metadata": {},
   "source": [
    "### Iterate to load the images and classes"
   ]
  },
  {
   "cell_type": "code",
   "execution_count": 213,
   "id": "977b9f4d",
   "metadata": {},
   "outputs": [
    {
     "name": "stdout",
     "output_type": "stream",
     "text": [
      "Iterating to load images & classes\n",
      "\n",
      "0 1 2 3 4 5 6 7 8 9 10 11 12 13 14 15 16 17 18 19 20 21 22 23 24 25 26 27 28 29 30 31 32 33 34 35 36 37 38 39 40 41 42 43 44 45 46 47 48 49 50 51 52 53 54 55 56 57 "
     ]
    }
   ],
   "source": [
    "print(\"Iterating to load images & classes\\n\")\n",
    "# iterate 0 to length of classes (58)\n",
    "for x in range(0, lengthOfClasses): # x is folder\n",
    "    imagesList = os.listdir(os.path.join(folder_path, str(x))) # each (x) folder in trafficSignData \n",
    "    for img in imagesList:\n",
    "        currentImage = cv2.imread(folder_path + \"/\" + str(x) + \"/\" + img) # trafficSignData --> x folder --> img = images\n",
    "        if currentImage is not None:  # Check image is read\n",
    "            currentImage = cv2.resize(currentImage, imageDimesions) # Resize to the dimensions to 32 X 32 pixels\n",
    "            images.append(currentImage)\n",
    "            classNumber.append(x)\n",
    "        else:\n",
    "            print(f\"It is wrong folder path {folder_path}\")\n",
    "    print(x, end=\" \")"
   ]
  },
  {
   "cell_type": "markdown",
   "id": "1cc11745",
   "metadata": {},
   "source": [
    "### Convert list to numpy array"
   ]
  },
  {
   "cell_type": "code",
   "execution_count": 214,
   "id": "6bd5bd5a",
   "metadata": {},
   "outputs": [],
   "source": [
    "# Convert list to numpy array\n",
    "images = np.array(images)\n",
    "classNumber = np.array(classNumber)"
   ]
  },
  {
   "cell_type": "markdown",
   "id": "2619cd57",
   "metadata": {},
   "source": [
    "**Result**"
   ]
  },
  {
   "cell_type": "code",
   "execution_count": 215,
   "id": "27968176",
   "metadata": {},
   "outputs": [
    {
     "name": "stdout",
     "output_type": "stream",
     "text": [
      "[[[[ 41  39  32]\n",
      "   [ 38  39  31]\n",
      "   [ 38  38  30]\n",
      "   ...\n",
      "   [155 153 151]\n",
      "   [190 190 190]\n",
      "   [192 192 192]]\n",
      "\n",
      "  [[ 40  40  30]\n",
      "   [ 38  38  32]\n",
      "   [ 40  38  31]\n",
      "   ...\n",
      "   [151 150 147]\n",
      "   [189 190 190]\n",
      "   [189 189 189]]\n",
      "\n",
      "  [[ 41  41  31]\n",
      "   [ 39  39  30]\n",
      "   [ 38  39  30]\n",
      "   ...\n",
      "   [145 146 141]\n",
      "   [188 188 188]\n",
      "   [185 185 185]]\n",
      "\n",
      "  ...\n",
      "\n",
      "  [[194 189 181]\n",
      "   [195 190 176]\n",
      "   [196 189 178]\n",
      "   ...\n",
      "   [121  49   7]\n",
      "   [123  51   5]\n",
      "   [121  50   8]]\n",
      "\n",
      "  [[194 185 171]\n",
      "   [193 184 173]\n",
      "   [194 185 172]\n",
      "   ...\n",
      "   [165 158 151]\n",
      "   [167 160 150]\n",
      "   [167 162 153]]\n",
      "\n",
      "  [[179 174 166]\n",
      "   [179 174 166]\n",
      "   [183 176 168]\n",
      "   ...\n",
      "   [125  55  13]\n",
      "   [126  56  12]\n",
      "   [127  55  13]]]\n",
      "\n",
      "\n",
      " [[[126  64  21]\n",
      "   [138  91  58]\n",
      "   [143 102  71]\n",
      "   ...\n",
      "   [165 155 142]\n",
      "   [176 180 185]\n",
      "   [162 166 170]]\n",
      "\n",
      "  [[139 110  93]\n",
      "   [154 140 129]\n",
      "   [120  78  58]\n",
      "   ...\n",
      "   [164 159 153]\n",
      "   [174 178 183]\n",
      "   [169 171 171]]\n",
      "\n",
      "  [[135  97  75]\n",
      "   [145 114 101]\n",
      "   [140 126 119]\n",
      "   ...\n",
      "   [157 162 164]\n",
      "   [185 188 192]\n",
      "   [179 179 182]]\n",
      "\n",
      "  ...\n",
      "\n",
      "  [[ 82  79  81]\n",
      "   [123 123 123]\n",
      "   [135 135 135]\n",
      "   ...\n",
      "   [163 163 165]\n",
      "   [161 161 161]\n",
      "   [132 134 153]]\n",
      "\n",
      "  [[ 82  81  81]\n",
      "   [123 123 123]\n",
      "   [139 137 137]\n",
      "   ...\n",
      "   [166 168 176]\n",
      "   [160 158 157]\n",
      "   [112 115 144]]\n",
      "\n",
      "  [[ 86  85  86]\n",
      "   [124 124 124]\n",
      "   [133 133 132]\n",
      "   ...\n",
      "   [161 159 162]\n",
      "   [159 152 153]\n",
      "   [127 105  89]]]\n",
      "\n",
      "\n",
      " [[[ 41  39  32]\n",
      "   [ 38  39  31]\n",
      "   [ 38  38  30]\n",
      "   ...\n",
      "   [155 153 151]\n",
      "   [190 190 190]\n",
      "   [192 192 192]]\n",
      "\n",
      "  [[ 40  40  30]\n",
      "   [ 38  38  32]\n",
      "   [ 40  38  31]\n",
      "   ...\n",
      "   [151 150 147]\n",
      "   [189 190 190]\n",
      "   [189 189 189]]\n",
      "\n",
      "  [[ 41  41  31]\n",
      "   [ 39  39  30]\n",
      "   [ 38  39  30]\n",
      "   ...\n",
      "   [145 146 141]\n",
      "   [188 188 188]\n",
      "   [185 185 185]]\n",
      "\n",
      "  ...\n",
      "\n",
      "  [[194 189 181]\n",
      "   [195 190 176]\n",
      "   [196 189 178]\n",
      "   ...\n",
      "   [121  49   7]\n",
      "   [123  51   5]\n",
      "   [121  50   8]]\n",
      "\n",
      "  [[194 185 171]\n",
      "   [193 184 173]\n",
      "   [194 185 172]\n",
      "   ...\n",
      "   [165 158 151]\n",
      "   [167 160 150]\n",
      "   [167 162 153]]\n",
      "\n",
      "  [[179 174 166]\n",
      "   [179 174 166]\n",
      "   [183 176 168]\n",
      "   ...\n",
      "   [125  55  13]\n",
      "   [126  56  12]\n",
      "   [127  55  13]]]\n",
      "\n",
      "\n",
      " ...\n",
      "\n",
      "\n",
      " [[[ 17  28  26]\n",
      "   [ 46  51  46]\n",
      "   [122 122 114]\n",
      "   ...\n",
      "   [171 179 183]\n",
      "   [177 186 190]\n",
      "   [195 204 208]]\n",
      "\n",
      "  [[ 41  52  50]\n",
      "   [ 46  51  45]\n",
      "   [ 35  35  26]\n",
      "   ...\n",
      "   [217 226 228]\n",
      "   [217 225 233]\n",
      "   [216 224 232]]\n",
      "\n",
      "  [[ 25  35  29]\n",
      "   [ 67  74  66]\n",
      "   [ 65  73  60]\n",
      "   ...\n",
      "   [216 227 227]\n",
      "   [214 222 230]\n",
      "   [213 220 230]]\n",
      "\n",
      "  ...\n",
      "\n",
      "  [[167 166 168]\n",
      "   [168 167 169]\n",
      "   [165 168 174]\n",
      "   ...\n",
      "   [221 234 236]\n",
      "   [220 230 239]\n",
      "   [217 227 237]]\n",
      "\n",
      "  [[187 194 195]\n",
      "   [192 199 200]\n",
      "   [191 197 201]\n",
      "   ...\n",
      "   [221 234 236]\n",
      "   [220 230 239]\n",
      "   [217 227 237]]\n",
      "\n",
      "  [[181 188 189]\n",
      "   [184 191 192]\n",
      "   [183 189 193]\n",
      "   ...\n",
      "   [221 234 236]\n",
      "   [220 230 239]\n",
      "   [217 227 237]]]\n",
      "\n",
      "\n",
      " [[[ 33  44  42]\n",
      "   [ 40  50  48]\n",
      "   [ 24  28  27]\n",
      "   ...\n",
      "   [212 221 225]\n",
      "   [216 225 229]\n",
      "   [215 225 232]]\n",
      "\n",
      "  [[ 71  82  80]\n",
      "   [ 71  79  76]\n",
      "   [ 44  47  43]\n",
      "   ...\n",
      "   [195 204 207]\n",
      "   [171 180 184]\n",
      "   [147 158 164]]\n",
      "\n",
      "  [[ 62  73  71]\n",
      "   [ 17  26  23]\n",
      "   [ 53  55  49]\n",
      "   ...\n",
      "   [224 233 237]\n",
      "   [232 241 245]\n",
      "   [223 233 238]]\n",
      "\n",
      "  ...\n",
      "\n",
      "  [[179 186 187]\n",
      "   [186 192 194]\n",
      "   [180 186 190]\n",
      "   ...\n",
      "   [216 226 236]\n",
      "   [220 230 238]\n",
      "   [220 232 235]]\n",
      "\n",
      "  [[190 197 198]\n",
      "   [169 175 176]\n",
      "   [185 191 195]\n",
      "   ...\n",
      "   [215 225 234]\n",
      "   [216 227 234]\n",
      "   [217 229 232]]\n",
      "\n",
      "  [[178 185 186]\n",
      "   [184 191 192]\n",
      "   [184 190 194]\n",
      "   ...\n",
      "   [216 226 236]\n",
      "   [218 229 236]\n",
      "   [219 231 235]]]\n",
      "\n",
      "\n",
      " [[[ 35  46  44]\n",
      "   [127 128 120]\n",
      "   [ 73  74  65]\n",
      "   ...\n",
      "   [218 227 229]\n",
      "   [210 219 223]\n",
      "   [227 236 240]]\n",
      "\n",
      "  [[ 39  49  47]\n",
      "   [ 47  47  38]\n",
      "   [ 15  15   8]\n",
      "   ...\n",
      "   [215 224 228]\n",
      "   [214 221 231]\n",
      "   [215 223 231]]\n",
      "\n",
      "  [[ 48  57  52]\n",
      "   [ 68  74  63]\n",
      "   [ 16  22  14]\n",
      "   ...\n",
      "   [217 226 230]\n",
      "   [213 220 230]\n",
      "   [215 223 231]]\n",
      "\n",
      "  ...\n",
      "\n",
      "  [[182 187 188]\n",
      "   [203 208 213]\n",
      "   [191 195 197]\n",
      "   ...\n",
      "   [222 233 238]\n",
      "   [217 227 236]\n",
      "   [219 229 238]]\n",
      "\n",
      "  [[187 194 195]\n",
      "   [183 189 193]\n",
      "   [187 191 193]\n",
      "   ...\n",
      "   [222 233 238]\n",
      "   [217 227 236]\n",
      "   [219 229 238]]\n",
      "\n",
      "  [[187 194 195]\n",
      "   [176 182 186]\n",
      "   [181 185 187]\n",
      "   ...\n",
      "   [222 233 238]\n",
      "   [216 226 236]\n",
      "   [219 229 238]]]]\n",
      "[ 0  0  0 ... 57 57 57]\n"
     ]
    }
   ],
   "source": [
    "print(images)\n",
    "print(classNumber)"
   ]
  },
  {
   "cell_type": "markdown",
   "id": "2f532f39",
   "metadata": {},
   "source": [
    "**Check images shape and classNumber**\n",
    "\n",
    "- the first number is number of images\n",
    "- 32 x 32 images\n",
    "- 3 mean RGB 3 channals"
   ]
  },
  {
   "cell_type": "code",
   "execution_count": 216,
   "id": "83224cc5",
   "metadata": {},
   "outputs": [
    {
     "name": "stdout",
     "output_type": "stream",
     "text": [
      "(4170, 32, 32, 3)\n",
      "(4170,)\n"
     ]
    }
   ],
   "source": [
    "print(images.shape)\n",
    "print(classNumber.shape)"
   ]
  },
  {
   "cell_type": "markdown",
   "id": "8dd01bad",
   "metadata": {},
   "source": [
    "### Data Spliting\n",
    "\n",
    "**import train_test_split**"
   ]
  },
  {
   "cell_type": "code",
   "execution_count": 217,
   "id": "459074ee",
   "metadata": {},
   "outputs": [],
   "source": [
    "from sklearn.model_selection import train_test_split"
   ]
  },
  {
   "cell_type": "markdown",
   "id": "50b44aae",
   "metadata": {},
   "source": [
    "### Spliting the data\n",
    "- split the array images, classNumber, set the test size for exmaple 0.2\n",
    "- test_size = 0.2 means that training will be 0.8 percent and test will be 0.2, so 20% testing and 80% training"
   ]
  },
  {
   "cell_type": "code",
   "execution_count": 218,
   "id": "56cc10ca",
   "metadata": {},
   "outputs": [],
   "source": [
    "X_train, X_test, y_train, y_test = train_test_split(images, classNumber, test_size=ratio)"
   ]
  },
  {
   "cell_type": "markdown",
   "id": "d0f8307d",
   "metadata": {},
   "source": [
    "**Check whether it is split or not (train, test)**\n",
    "- by using shape function"
   ]
  },
  {
   "cell_type": "code",
   "execution_count": 219,
   "id": "d39cddf1",
   "metadata": {},
   "outputs": [
    {
     "name": "stdout",
     "output_type": "stream",
     "text": [
      "After spliting for images for traning\n",
      "(3336, 32, 32, 3)\n",
      "After spliting for images for testing\n",
      "(834, 32, 32, 3)\n",
      "\n",
      " After spliting for classNUmber for traning & testing\n",
      "(3336,)\n",
      "(834,)\n"
     ]
    }
   ],
   "source": [
    "print(\"After spliting for images for traning\")\n",
    "print(X_train.shape)\n",
    "print(\"After spliting for images for testing\")\n",
    "print(X_test.shape)\n",
    "\n",
    "print(\"\\n After spliting for classNUmber for traning & testing\")\n",
    "print(y_train.shape)\n",
    "print(y_test.shape)"
   ]
  },
  {
   "cell_type": "markdown",
   "id": "faa8022d",
   "metadata": {},
   "source": [
    "**Get the X_validation**\n",
    "- to get X_validation use the 80% of images array which is X_train and use y_train"
   ]
  },
  {
   "cell_type": "code",
   "execution_count": 220,
   "id": "3f3e8189",
   "metadata": {},
   "outputs": [
    {
     "name": "stdout",
     "output_type": "stream",
     "text": [
      "Get the X_validation\n",
      "(668, 32, 32, 3)\n"
     ]
    }
   ],
   "source": [
    "X_train, X_validation, y_train, y_validation = train_test_split(X_train, y_train, test_size=ratio)\n",
    "print('Get the X_validation')\n",
    "print(X_validation.shape)"
   ]
  },
  {
   "cell_type": "markdown",
   "id": "72d645b7",
   "metadata": {},
   "source": [
    "**Print X_train, X_test, and X_validation**"
   ]
  },
  {
   "cell_type": "code",
   "execution_count": 221,
   "id": "11bca6df",
   "metadata": {},
   "outputs": [
    {
     "name": "stdout",
     "output_type": "stream",
     "text": [
      "(2668, 32, 32, 3) (2668,)\n",
      "(834, 32, 32, 3) (834,)\n",
      "(668, 32, 32, 3) (668,)\n"
     ]
    }
   ],
   "source": [
    "print(X_train.shape, y_train.shape)\n",
    "print(X_test.shape, y_test.shape)\n",
    "print(X_validation.shape, y_validation.shape)\n",
    "\n",
    "# print(X_train)\n",
    "# print(y_train)"
   ]
  },
  {
   "cell_type": "markdown",
   "id": "bb107d44",
   "metadata": {},
   "source": [
    "### Check the images and classes are match & dimension are correct"
   ]
  },
  {
   "cell_type": "code",
   "execution_count": 222,
   "id": "bc0225d7",
   "metadata": {},
   "outputs": [
    {
     "name": "stdout",
     "output_type": "stream",
     "text": [
      "All tests passed\n"
     ]
    }
   ],
   "source": [
    "try:\n",
    "    # check it is same or not\n",
    "    assert X_train.shape[0] == y_train.shape[0], \"Number of images and class should be match for training\"\n",
    "    assert X_test.shape[0] == y_test.shape[0], \"Number of images and class should be match for testing\"\n",
    "    # check dimensions is same or not\n",
    "    assert X_train.shape[1:] == imageDimesiontest, \"Dimensions should be same one for training\"\n",
    "    assert X_test.shape[1:] == imageDimesiontest, \"Dimensions should be same one for testing\"\n",
    "    print(\"All tests passed\")\n",
    "except AssertionError as e:\n",
    "    print(e)\n"
   ]
  },
  {
   "cell_type": "markdown",
   "id": "461c2993",
   "metadata": {},
   "source": [
    "**What inside the X and Y**\n",
    "- X_train contain = actual images, Y_train contain = the ids of each image"
   ]
  },
  {
   "cell_type": "code",
   "execution_count": 223,
   "id": "f45fcf49",
   "metadata": {},
   "outputs": [
    {
     "name": "stdout",
     "output_type": "stream",
     "text": [
      "Index which related to class 0\n",
      "(array([  25,  154,  158,  166,  245,  284,  293,  355,  374,  417,  461,\n",
      "        513,  517,  525,  536,  556,  586,  588,  593,  609,  619,  765,\n",
      "        815,  838,  861,  937,  945,  968,  982, 1114, 1158, 1174, 1211,\n",
      "       1219, 1275, 1315, 1371, 1455, 1474, 1492, 1505, 1526, 1544, 1559,\n",
      "       1576, 1648, 1656, 1663, 1693, 1707, 1738, 1768, 1876, 1891, 1949,\n",
      "       2012, 2024, 2184, 2221, 2249, 2264, 2373, 2412, 2459, 2484, 2494,\n",
      "       2498, 2501, 2507, 2514, 2537, 2604, 2621, 2624]),)\n",
      "Length of the class 0\n",
      "74\n",
      "Total number of images for each Class\n",
      "Class 0: 74\n",
      "Class 1: 23\n",
      "Class 2: 52\n",
      "Class 3: 172\n",
      "Class 4: 57\n",
      "Class 5: 126\n",
      "Class 6: 53\n",
      "Class 7: 91\n",
      "Class 8: 5\n",
      "Class 9: 2\n",
      "Class 10: 49\n",
      "Class 11: 94\n",
      "Class 12: 59\n",
      "Class 13: 22\n",
      "Class 14: 85\n",
      "Class 15: 15\n",
      "Class 16: 91\n",
      "Class 17: 74\n",
      "Class 18: 5\n",
      "Class 19: 4\n",
      "Class 20: 13\n",
      "Class 21: 9\n",
      "Class 22: 9\n",
      "Class 23: 9\n",
      "Class 24: 64\n",
      "Class 25: 1\n",
      "Class 26: 81\n",
      "Class 27: 15\n",
      "Class 28: 286\n",
      "Class 29: 29\n",
      "Class 30: 102\n",
      "Class 31: 30\n",
      "Class 32: 9\n",
      "Class 33: 2\n",
      "Class 34: 16\n",
      "Class 35: 98\n",
      "Class 36: 27\n",
      "Class 37: 37\n",
      "Class 38: 18\n",
      "Class 39: 23\n",
      "Class 40: 25\n",
      "Class 41: 10\n",
      "Class 42: 22\n",
      "Class 43: 61\n",
      "Class 44: 22\n",
      "Class 45: 19\n",
      "Class 46: 13\n",
      "Class 47: 9\n",
      "Class 48: 7\n",
      "Class 49: 25\n",
      "Class 50: 29\n",
      "Class 51: 4\n",
      "Class 52: 22\n",
      "Class 53: 2\n",
      "Class 54: 210\n",
      "Class 55: 92\n",
      "Class 56: 63\n",
      "Class 57: 2\n",
      "Array of classes's length : [74, 23, 52, 172, 57, 126, 53, 91, 5, 2, 49, 94, 59, 22, 85, 15, 91, 74, 5, 4, 13, 9, 9, 9, 64, 1, 81, 15, 286, 29, 102, 30, 9, 2, 16, 98, 27, 37, 18, 23, 25, 10, 22, 61, 22, 19, 13, 9, 7, 25, 29, 4, 22, 2, 210, 92, 63, 2]\n"
     ]
    }
   ],
   "source": [
    "# show the all the index numbers which are class number 0\n",
    "print(\"Index which related to class 0\")\n",
    "print(np.where(y_train==0))\n",
    "# total length of classNumber 0\n",
    "print(\"Length of the class 0\")\n",
    "print(len(np.where(y_train==0)[0]))\n",
    "\n",
    "# Declare array to store length of each class\n",
    "numberOfSamples = []\n",
    "\n",
    "print(\"Total number of images for each Class\")\n",
    "for x in range(0,lengthOfClasses):\n",
    "    print(f\"Class {x}: {len(np.where(y_train == x)[0])}\")\n",
    "    # save each class in array\n",
    "    numberOfSamples.append(len(np.where(y_train == x)[0]))\n",
    "\n",
    "print(f\"Array of classes's length : {numberOfSamples}\")"
   ]
  },
  {
   "cell_type": "markdown",
   "id": "affe72d0",
   "metadata": {},
   "source": [
    "### Virtualize the classes by number of length\n",
    "- to make the chart, we need to import the matplotlib\n",
    "\n",
    "**Import library**"
   ]
  },
  {
   "cell_type": "code",
   "execution_count": 224,
   "id": "757b40e1",
   "metadata": {},
   "outputs": [],
   "source": [
    "import matplotlib.pyplot as plt"
   ]
  },
  {
   "cell_type": "code",
   "execution_count": 225,
   "id": "4e0f6f41",
   "metadata": {},
   "outputs": [
    {
     "data": {
      "image/png": "[encoded data removed]",
      "text/plain": [
       "<Figure size 1500x500 with 1 Axes>"
      ]
     },
     "metadata": {},
     "output_type": "display_data"
    }
   ],
   "source": [
    "# 15 mean to length of figure & 5 mean to height of figure\n",
    "plt.figure(figsize=(15, 5))\n",
    "\n",
    "# start 0 to lengthofClasses, \n",
    "plt.bar(range(0, lengthOfClasses), numberOfSamples, color=\"steelblue\", edgecolor='black')\n",
    "plt.title(\"Distribution of the training dataset\", fontsize=16, fontweight='bold')\n",
    "plt.xlabel(\"Number of class\", fontsize=14)\n",
    "plt.ylabel(\"Length of images\", fontsize=14)\n",
    "plt.show()"
   ]
  },
  {
   "cell_type": "markdown",
   "id": "e69dcf4c",
   "metadata": {},
   "source": [
    "### Virtualize with line chart"
   ]
  },
  {
   "cell_type": "code",
   "execution_count": 226,
   "id": "b5b4c76c",
   "metadata": {},
   "outputs": [
    {
     "data": {
      "image/png": "[encoded data removed]",
      "text/plain": [
       "<Figure size 1500x500 with 1 Axes>"
      ]
     },
     "metadata": {},
     "output_type": "display_data"
    }
   ],
   "source": [
    "plt.figure(figsize=(15, 5))\n",
    "plt.plot(range(0, lengthOfClasses), numberOfSamples, marker='o', color=\"steelblue\", linewidth=2)\n",
    "plt.title(\"Distribution of the Training Dataset\", fontsize=16, fontweight='bold')\n",
    "plt.xlabel(\"Class Number\", fontsize=14)\n",
    "plt.ylabel(\"Image Count\", fontsize=14)\n",
    "plt.show()\n"
   ]
  },
  {
   "cell_type": "markdown",
   "id": "f9dcb524",
   "metadata": {},
   "source": [
    "### Read the CSV file\n",
    "- to read the csv files, the pandas library need to import"
   ]
  },
  {
   "cell_type": "code",
   "execution_count": 227,
   "id": "0c683fb1",
   "metadata": {},
   "outputs": [],
   "source": [
    "import pandas as pd"
   ]
  },
  {
   "cell_type": "code",
   "execution_count": 228,
   "id": "18204b3f",
   "metadata": {},
   "outputs": [
    {
     "name": "stdout",
     "output_type": "stream",
     "text": [
      "data shape  (58, 2) <class 'pandas.core.frame.DataFrame'>\n"
     ]
    }
   ],
   "source": [
    "data = pd.read_csv(label_file)\n",
    "print(\"data shape \", data.shape, type(data))"
   ]
  },
  {
   "cell_type": "markdown",
   "id": "22ae494b",
   "metadata": {},
   "source": [
    "#### What is data\n",
    "- it is a DataFrame object"
   ]
  },
  {
   "cell_type": "code",
   "execution_count": 229,
   "id": "19963cd4",
   "metadata": {},
   "outputs": [
    {
     "name": "stdout",
     "output_type": "stream",
     "text": [
      "All the information inside data\n",
      "    ClassId                          Name\n",
      "0         0           Speed limit (5km/h)\n",
      "1         1          Speed limit (15km/h)\n",
      "2         2          Speed limit (30km/h)\n",
      "3         3          Speed limit (40km/h)\n",
      "4         4          Speed limit (50km/h)\n",
      "5         5          Speed limit (60km/h)\n",
      "6         6          Speed limit (70km/h)\n",
      "7         7          speed limit (80km/h)\n",
      "8         8      Dont Go straight or left\n",
      "9         9     Dont Go straight or Right\n",
      "10       10              Dont Go straight\n",
      "11       11                  Dont Go Left\n",
      "12       12         Dont Go Left or Right\n",
      "13       13                 Dont Go Right\n",
      "14       14       Dont overtake from Left\n",
      "15       15                      No Uturn\n",
      "16       16                        No Car\n",
      "17       17                       No horn\n",
      "18       18          Speed limit (40km/h)\n",
      "19       19          Speed limit (50km/h)\n",
      "20       20          Go straight or right\n",
      "21       21                   Go straight\n",
      "22       22                       Go Left\n",
      "23       23              Go Left or right\n",
      "24       24                      Go Right\n",
      "25       25                     keep Left\n",
      "26       26                    keep Right\n",
      "27       27          Roundabout mandatory\n",
      "28       28            watch out for cars\n",
      "29       29                          Horn\n",
      "30       30             Bicycles crossing\n",
      "31       31                         Uturn\n",
      "32       32                  Road Divider\n",
      "33       33               Traffic signals\n",
      "34       34                  Danger Ahead\n",
      "35       35                Zebra Crossing\n",
      "36       36             Bicycles crossing\n",
      "37       37             Children crossing\n",
      "38       38   Dangerous curve to the left\n",
      "39       39  Dangerous curve to the right\n",
      "40       40                      Unknown1\n",
      "41       41                      Unknown2\n",
      "42       42                      Unknown3\n",
      "43       43          Go right or straight\n",
      "44       44           Go left or straight\n",
      "45       45                      Unknown4\n",
      "46       46                  ZigZag Curve\n",
      "47       47                Train Crossing\n",
      "48       48            Under Construction\n",
      "49       49                      Unknown5\n",
      "50       50                        Fences\n",
      "51       51       Heavy Vehicle Accidents\n",
      "52       52                      Unknown6\n",
      "53       53                      Give Way\n",
      "54       54                   No stopping\n",
      "55       55                      No entry\n",
      "56       56                      Unknown7\n",
      "57       57                      Unknown8\n",
      "\n",
      "Print only one row of that\n",
      "ClassId                      0\n",
      "Name       Speed limit (5km/h)\n",
      "Name: 0, dtype: object\n"
     ]
    }
   ],
   "source": [
    "print(\"All the information inside data\")\n",
    "print(data)\n",
    "\n",
    "print(\"\\nPrint only one row of that\")\n",
    "print(data.iloc[0])\n"
   ]
  },
  {
   "cell_type": "markdown",
   "id": "4910a1cc",
   "metadata": {},
   "source": [
    "### Display image for each class"
   ]
  },
  {
   "cell_type": "code",
   "execution_count": 230,
   "id": "8e80bf8b",
   "metadata": {},
   "outputs": [],
   "source": [
    "import random"
   ]
  },
  {
   "cell_type": "markdown",
   "id": "6aba85f0",
   "metadata": {},
   "source": [
    "#### Numpy Array\n",
    "- it is 3-dimensional NumPy array which store the pixels of the images\n",
    "- For example [70, 65, 61] is a RGB color"
   ]
  },
  {
   "cell_type": "code",
   "execution_count": 231,
   "id": "5b56d95c",
   "metadata": {},
   "outputs": [
    {
     "name": "stdout",
     "output_type": "stream",
     "text": [
      "[[[ 80 136 150]\n",
      "  [ 53  96 112]\n",
      "  [197 226 233]\n",
      "  ...\n",
      "  [240 240 239]\n",
      "  [200 193 181]\n",
      "  [239 222 196]]\n",
      "\n",
      " [[ 82 137 150]\n",
      "  [ 52  96 110]\n",
      "  [189 219 224]\n",
      "  ...\n",
      "  [241 239 241]\n",
      "  [200 196 183]\n",
      "  [250 237 211]]\n",
      "\n",
      " [[ 89 142 152]\n",
      "  [ 56  99 112]\n",
      "  [179 211 215]\n",
      "  ...\n",
      "  [251 247 251]\n",
      "  [207 200 187]\n",
      "  [248 233 208]]\n",
      "\n",
      " ...\n",
      "\n",
      " [[ 78 139 161]\n",
      "  [ 72 124 135]\n",
      "  [102 129 137]\n",
      "  ...\n",
      "  [243 242 241]\n",
      "  [ 91  91  91]\n",
      "  [  0   0   1]]\n",
      "\n",
      " [[ 77 140 156]\n",
      "  [ 70 122 133]\n",
      "  [ 93 127 133]\n",
      "  ...\n",
      "  [242 241 240]\n",
      "  [129 133 133]\n",
      "  [ 75  79  79]]\n",
      "\n",
      " [[ 70 137 151]\n",
      "  [ 73 126 137]\n",
      "  [ 96 131 140]\n",
      "  ...\n",
      "  [246 248 245]\n",
      "  [121 126 125]\n",
      "  [170 175 174]]]\n"
     ]
    }
   ],
   "source": [
    "print(X_train[0])"
   ]
  },
  {
   "cell_type": "markdown",
   "id": "2af64ff7",
   "metadata": {},
   "source": [
    "imshow() function from Matplotlib to display an image in the subplot\n",
    "x_selected[random_index, :, :] retrieves the image at the randomly selected index. The :, : syntax indicates that you want to access all pixel values in the height and width dimensions, while random_index selects the specific image."
   ]
  },
  {
   "cell_type": "code",
   "execution_count": null,
   "id": "c1d1f483",
   "metadata": {},
   "outputs": [
    {
     "name": "stdout",
     "output_type": "stream",
     "text": [
      "Total number for class number 0 : 74\n"
     ]
    },
    {
     "data": {
      "image/png": "[encoded data removed]",
      "text/plain": [
       "<Figure size 1000x200 with 5 Axes>"
      ]
     },
     "metadata": {},
     "output_type": "display_data"
    },
    {
     "name": "stdout",
     "output_type": "stream",
     "text": [
      "Total number for class number 1 : 23\n"
     ]
    },
    {
     "ename": "IndexError",
     "evalue": "index 23 is out of bounds for axis 0 with size 23",
     "output_type": "error",
     "traceback": [
      "\u001b[0;31m---------------------------------------------------------------------------\u001b[0m",
      "\u001b[0;31mIndexError\u001b[0m                                Traceback (most recent call last)",
      "Cell \u001b[0;32mIn[232], line 17\u001b[0m\n\u001b[1;32m     14\u001b[0m \u001b[38;5;28;01mfor\u001b[39;00m col \u001b[38;5;129;01min\u001b[39;00m \u001b[38;5;28mrange\u001b[39m(columns):\n\u001b[1;32m     15\u001b[0m     \u001b[38;5;66;03m# get random inxdex from selected images which is numpy array\u001b[39;00m\n\u001b[1;32m     16\u001b[0m     random_index \u001b[38;5;241m=\u001b[39m random\u001b[38;5;241m.\u001b[39mrandint(\u001b[38;5;241m0\u001b[39m, lengthOfXselect)\n\u001b[0;32m---> 17\u001b[0m     axs[col]\u001b[38;5;241m.\u001b[39mimshow(x_selected[random_index, :, :], cmap\u001b[38;5;241m=\u001b[39m\u001b[38;5;124m\"\u001b[39m\u001b[38;5;124mgray\u001b[39m\u001b[38;5;124m\"\u001b[39m)\n\u001b[1;32m     18\u001b[0m     \u001b[38;5;66;03m# hide the axis number to view clearly\u001b[39;00m\n\u001b[1;32m     19\u001b[0m     axs[col]\u001b[38;5;241m.\u001b[39maxis(\u001b[38;5;124m\"\u001b[39m\u001b[38;5;124moff\u001b[39m\u001b[38;5;124m\"\u001b[39m)\n",
      "\u001b[0;31mIndexError\u001b[0m: index 23 is out of bounds for axis 0 with size 23"
     ]
    },
    {
     "data": {
      "image/png": "[encoded data removed]",
      "text/plain": [
       "<Figure size 1000x200 with 5 Axes>"
      ]
     },
     "metadata": {},
     "output_type": "display_data"
    }
   ],
   "source": [
    "columns = 5\n",
    "\n",
    "# Loop through each class and create a new figure for each\n",
    "for classNo, row in data.iterrows():\n",
    "    #print(row)\n",
    "    fig, axs = plt.subplots(nrows=1, ncols=columns, figsize=(10, 2)) # ouput for 1 row with 5 columns\n",
    "    fig.suptitle(f\"Class Number{classNo} - {row['Name']}\", fontsize=12, y=1.05) # ouput the tile for the plot Class [class id] - row['Name']\n",
    "\n",
    "    # get the pixels values of image, in this case, filter the correct image that match with classNO\n",
    "    x_selected = X_train[y_train == classNo]    \n",
    "    lengthOfXselect = len(x_selected)\n",
    "    print(f\"Total number for class number {classNo} : {lengthOfXselect}\")\n",
    "\n",
    "    for col in range(columns):\n",
    "        # get random inxdex from selected images which is numpy array\n",
    "        random_index = random.randint(0, lengthOfXselect - 1)\n",
    "        axs[col].imshow(x_selected[random_index, :, :], cmap=\"gray\")\n",
    "        # hide the axis number to view clearly\n",
    "        axs[col].axis(\"off\")\n",
    "    \n",
    "    # print out the image\n",
    "    plt.tight_layout() # make the layout for photo\n",
    "    plt.show() # print our photo"
   ]
  }
 ],
 "metadata": {
  "kernelspec": {
   "display_name": "base",
   "language": "python",
   "name": "python3"
  },
  "language_info": {
   "codemirror_mode": {
    "name": "ipython",
    "version": 3
   },
   "file_extension": ".py",
   "mimetype": "text/x-python",
   "name": "python",
   "nbconvert_exporter": "python",
   "pygments_lexer": "ipython3",
   "version": "3.12.7"
  }
 },
 "nbformat": 4,
 "nbformat_minor": 5
}
