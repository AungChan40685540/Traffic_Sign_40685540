{
 "cells": [
  {
   "cell_type": "markdown",
   "id": "9e4b7f5a",
   "metadata": {},
   "source": [
    "### Import libraries"
   ]
  },
  {
   "cell_type": "code",
   "execution_count": null,
   "id": "8e5c5ef7",
   "metadata": {
    "vscode": {
     "languageId": "plaintext"
    }
   },
   "outputs": [],
   "source": [
    "import numpy as np\n",
    "import cv2\n",
    "import os"
   ]
  },
  {
   "cell_type": "markdown",
   "id": "f6d0b368",
   "metadata": {},
   "source": [
    "**Parameter**"
   ]
  },
  {
   "cell_type": "code",
   "execution_count": null,
   "id": "997f0318",
   "metadata": {
    "vscode": {
     "languageId": "plaintext"
    }
   },
   "outputs": [],
   "source": [
    "folder_path = \"trafficSignData\"\n",
    "label_file = 'labels.csv'\n",
    "imageDimesions = (32,32)"
   ]
  },
  {
   "cell_type": "code",
   "execution_count": null,
   "id": "5336ada6",
   "metadata": {
    "vscode": {
     "languageId": "plaintext"
    }
   },
   "outputs": [],
   "source": [
    "images = []\n",
    "classNumber = []"
   ]
  },
  {
   "cell_type": "code",
   "execution_count": null,
   "id": "21db031c",
   "metadata": {
    "vscode": {
     "languageId": "plaintext"
    }
   },
   "outputs": [],
   "source": [
    "# get the path of the traffic data\n",
    "myList = os.listdir(folder_path)\n",
    "print(\"View each classes in traffic folder :\", myList, \"\\n\")\n",
    "\n",
    "# get the number of classes (number of folder)\n",
    "lengthOfClasses = len(myList)\n",
    "print(\"Total length of classes :\", lengthOfClasses, \"\\n\")\n",
    "\n",
    "\n",
    "print(\"Iterating to load images & classes\\n\")\n",
    "# iterate 0 to length of classes (58)\n",
    "for x in range(0, lengthOfClasses): # x is folder\n",
    "    imagesList = os.listdir(os.path.join(folder_path, str(x))) # each (x) folder in trafficSignData \n",
    "    for img in imagesList:\n",
    "        currentImage = cv2.imread(folder_path + \"/\" + str(x) + \"/\" + img) # trafficSignData --> x folder --> img = images\n",
    "        if currentImage is not None:  # Check image is read\n",
    "            currentImage = cv2.resize(currentImage, imageDimesions) # Resize to the dimensions tp 32 X 32 pixels\n",
    "            images.append(currentImage)\n",
    "            classNumber.append(x)\n",
    "        else:\n",
    "            print(f\"It is wrong folder path {folder_path}\")\n",
    "    print(x, end=\" \")\n",
    "# print(\" \")\n",
    "\n",
    "\n",
    "# Convert list to numpy array\n",
    "images = np.array(images)\n",
    "classNumber = np.array(classNumber)\n",
    "# print(images)\n",
    "# print(classNumber)"
   ]
  }
 ],
 "metadata": {
  "language_info": {
   "name": "python"
  }
 },
 "nbformat": 4,
 "nbformat_minor": 5
}
